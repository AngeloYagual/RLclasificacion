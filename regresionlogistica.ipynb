{
  "nbformat": 4,
  "nbformat_minor": 0,
  "metadata": {
    "colab": {
      "provenance": []
    },
    "kernelspec": {
      "name": "python3",
      "display_name": "Python 3"
    },
    "language_info": {
      "name": "python"
    }
  },
  "cells": [
    {
      "cell_type": "code",
      "execution_count": null,
      "metadata": {
        "colab": {
          "base_uri": "https://localhost:8080/"
        },
        "id": "3o5ZdBEJw2eg",
        "outputId": "5f5d68c8-694d-4878-fba3-eeec3dfdcb2a"
      },
      "outputs": [
        {
          "output_type": "stream",
          "name": "stdout",
          "text": [
            "Drive already mounted at /content/drive; to attempt to forcibly remount, call drive.mount(\"/content/drive\", force_remount=True).\n",
            "/content/drive/MyDrive/Colab Notebooks/regresionlogistica1\n"
          ]
        }
      ],
      "source": [
        "from google.colab import drive\n",
        "drive.mount('/content/drive')\n",
        "%cd /content/drive/MyDrive/Colab Notebooks/regresionlogistica1/"
      ]
    },
    {
      "cell_type": "code",
      "source": [
        "import pandas as pd\n",
        "import numpy as np\n",
        "\n",
        "# Generating random names\n",
        "def generate_names(n):\n",
        "    names = []\n",
        "    for _ in range(n):\n",
        "        name_length = np.random.randint(5, 10)\n",
        "        name = ''.join(np.random.choice(list('abcdefghijklmnopqrstuvwxyz'), size=name_length))\n",
        "        names.append(name.capitalize())\n",
        "    return names\n",
        "\n",
        "# Generating random account types\n",
        "def generate_account_types(n):\n",
        "    return np.random.choice(['ahorro', 'corriente'], size=n)\n",
        "\n",
        "# Assigning priorities based on account types and money\n",
        "def assign_priorities(account_types, money_january, money_february, money_march):\n",
        "    priorities = []\n",
        "    for acc_type, january, february, march in zip(account_types, money_january, money_february, money_march):\n",
        "        if acc_type == 'corriente' and (january < february < march):\n",
        "            priorities.append('high')\n",
        "        elif acc_type == 'ahorro' and (january > february > march):\n",
        "            priorities.append('low')\n",
        "        else:\n",
        "            priorities.append('medium')\n",
        "    return priorities\n",
        "\n",
        "# Generating random amounts of money for each month\n",
        "def generate_money(n):\n",
        "    money_january = np.random.randint(3000, 10001, size=n)\n",
        "    money_february = np.random.randint(3000, 10001, size=n)\n",
        "    money_march = np.random.randint(3000, 10001, size=n)\n",
        "\n",
        "    # Randomly decrement or increment some values\n",
        "    for i in range(n):\n",
        "        if np.random.random() < 0.3:  # 30% chance of decrement or increment\n",
        "            choice = np.random.choice([-1, 1])\n",
        "            money_january[i] += choice * np.random.randint(500, 2001)  # Decrement or increment between 500 and 2000\n",
        "        if np.random.random() < 0.3:\n",
        "            choice = np.random.choice([-1, 1])\n",
        "            money_february[i] += choice * np.random.randint(500, 2001)\n",
        "        if np.random.random() < 0.3:\n",
        "            choice = np.random.choice([-1, 1])\n",
        "            money_march[i] += choice * np.random.randint(500, 2001)\n",
        "\n",
        "    return money_january, money_february, money_march\n",
        "\n",
        "# Generating dataset\n",
        "n = 20000\n",
        "names = generate_names(n)\n",
        "account_types = generate_account_types(n)\n",
        "money_january, money_february, money_march = generate_money(n)\n",
        "priorities = assign_priorities(account_types, money_january, money_february, money_march)\n",
        "\n",
        "# Creating DataFrame\n",
        "data = {\n",
        "    'Name': names,\n",
        "    'Account_Type': account_types,\n",
        "    'Money_January': money_january,\n",
        "    'Money_February': money_february,\n",
        "    'Money_March': money_march,\n",
        "    'Priority': priorities\n",
        "}\n",
        "\n",
        "df = pd.DataFrame(data)\n",
        "\n",
        "# Saving to CSV\n",
        "df.to_csv('dataset.csv', index=False)\n",
        "print(df)"
      ],
      "metadata": {
        "colab": {
          "base_uri": "https://localhost:8080/"
        },
        "id": "erDbpklf5XKN",
        "outputId": "8bae65bd-8506-4064-a016-c851c9016bce"
      },
      "execution_count": null,
      "outputs": [
        {
          "output_type": "stream",
          "name": "stdout",
          "text": [
            "            Name Account_Type  Money_January  Money_February  Money_March  \\\n",
            "0      Guvhqkndy       ahorro           5392            9406         3927   \n",
            "1      Uwmpdhbde    corriente           6754            4496         5532   \n",
            "2         Hlllul    corriente           7163            7341         9839   \n",
            "3          Ychmk       ahorro           4290            7627         7649   \n",
            "4        Awijaou       ahorro           3993            4333         9168   \n",
            "...          ...          ...            ...             ...          ...   \n",
            "19995  Nfyvadmix    corriente           4678            8987         8521   \n",
            "19996  Axciaxlck       ahorro           9551            9449         8425   \n",
            "19997  Wojmjyvka    corriente           9518            7319        11042   \n",
            "19998      Yohze    corriente           7006            8698         3464   \n",
            "19999  Hvqxzvzqu    corriente           5869           11279         9516   \n",
            "\n",
            "      Priority  \n",
            "0       medium  \n",
            "1       medium  \n",
            "2         high  \n",
            "3       medium  \n",
            "4       medium  \n",
            "...        ...  \n",
            "19995   medium  \n",
            "19996      low  \n",
            "19997   medium  \n",
            "19998   medium  \n",
            "19999   medium  \n",
            "\n",
            "[20000 rows x 6 columns]\n"
          ]
        }
      ]
    },
    {
      "cell_type": "code",
      "source": [
        "from sklearn.model_selection import train_test_split\n",
        "from sklearn.linear_model import LogisticRegression\n",
        "from sklearn.metrics import accuracy_score"
      ],
      "metadata": {
        "id": "Yw8HQBhHyBUn"
      },
      "execution_count": null,
      "outputs": []
    },
    {
      "cell_type": "code",
      "source": [
        "# Load the dataset\n",
        "df = pd.read_csv('dataset.csv')"
      ],
      "metadata": {
        "id": "TMkeVNoJyIeW"
      },
      "execution_count": null,
      "outputs": []
    },
    {
      "cell_type": "code",
      "source": [
        "# Encoding categorical variables\n",
        "df['Account_Type'] = df['Account_Type'].map({'ahorro': 0, 'corriente': 1})\n",
        "\n",
        "# Create a new binary feature indicating whether the money increased over the three months\n",
        "df['Money_Increase'] = ((df['Money_February'] > df['Money_January']) & (df['Money_March'] > df['Money_February'])).astype(int)\n",
        "\n",
        "# Splitting the dataset into features and target variable\n",
        "X = df[['Account_Type', 'Money_Increase']]\n",
        "y = df['Priority']"
      ],
      "metadata": {
        "id": "pE8wOyIGyRSG"
      },
      "execution_count": null,
      "outputs": []
    },
    {
      "cell_type": "code",
      "source": [
        "# Splitting the dataset into training and testing sets\n",
        "X_train, X_test, y_train, y_test = train_test_split(X, y, test_size=0.2, random_state=42)\n",
        "\n",
        "# Creating and training the Logistic Regression model\n",
        "model = LogisticRegression(multi_class='auto', solver='lbfgs', max_iter=1000)\n",
        "model.fit(X_train, y_train)"
      ],
      "metadata": {
        "colab": {
          "base_uri": "https://localhost:8080/",
          "height": 75
        },
        "id": "MplW-DIwySvl",
        "outputId": "d45cf013-4156-49a7-826a-1048a8dea542"
      },
      "execution_count": null,
      "outputs": [
        {
          "output_type": "execute_result",
          "data": {
            "text/plain": [
              "LogisticRegression(max_iter=1000)"
            ],
            "text/html": [
              "<style>#sk-container-id-1 {color: black;background-color: white;}#sk-container-id-1 pre{padding: 0;}#sk-container-id-1 div.sk-toggleable {background-color: white;}#sk-container-id-1 label.sk-toggleable__label {cursor: pointer;display: block;width: 100%;margin-bottom: 0;padding: 0.3em;box-sizing: border-box;text-align: center;}#sk-container-id-1 label.sk-toggleable__label-arrow:before {content: \"▸\";float: left;margin-right: 0.25em;color: #696969;}#sk-container-id-1 label.sk-toggleable__label-arrow:hover:before {color: black;}#sk-container-id-1 div.sk-estimator:hover label.sk-toggleable__label-arrow:before {color: black;}#sk-container-id-1 div.sk-toggleable__content {max-height: 0;max-width: 0;overflow: hidden;text-align: left;background-color: #f0f8ff;}#sk-container-id-1 div.sk-toggleable__content pre {margin: 0.2em;color: black;border-radius: 0.25em;background-color: #f0f8ff;}#sk-container-id-1 input.sk-toggleable__control:checked~div.sk-toggleable__content {max-height: 200px;max-width: 100%;overflow: auto;}#sk-container-id-1 input.sk-toggleable__control:checked~label.sk-toggleable__label-arrow:before {content: \"▾\";}#sk-container-id-1 div.sk-estimator input.sk-toggleable__control:checked~label.sk-toggleable__label {background-color: #d4ebff;}#sk-container-id-1 div.sk-label input.sk-toggleable__control:checked~label.sk-toggleable__label {background-color: #d4ebff;}#sk-container-id-1 input.sk-hidden--visually {border: 0;clip: rect(1px 1px 1px 1px);clip: rect(1px, 1px, 1px, 1px);height: 1px;margin: -1px;overflow: hidden;padding: 0;position: absolute;width: 1px;}#sk-container-id-1 div.sk-estimator {font-family: monospace;background-color: #f0f8ff;border: 1px dotted black;border-radius: 0.25em;box-sizing: border-box;margin-bottom: 0.5em;}#sk-container-id-1 div.sk-estimator:hover {background-color: #d4ebff;}#sk-container-id-1 div.sk-parallel-item::after {content: \"\";width: 100%;border-bottom: 1px solid gray;flex-grow: 1;}#sk-container-id-1 div.sk-label:hover label.sk-toggleable__label {background-color: #d4ebff;}#sk-container-id-1 div.sk-serial::before {content: \"\";position: absolute;border-left: 1px solid gray;box-sizing: border-box;top: 0;bottom: 0;left: 50%;z-index: 0;}#sk-container-id-1 div.sk-serial {display: flex;flex-direction: column;align-items: center;background-color: white;padding-right: 0.2em;padding-left: 0.2em;position: relative;}#sk-container-id-1 div.sk-item {position: relative;z-index: 1;}#sk-container-id-1 div.sk-parallel {display: flex;align-items: stretch;justify-content: center;background-color: white;position: relative;}#sk-container-id-1 div.sk-item::before, #sk-container-id-1 div.sk-parallel-item::before {content: \"\";position: absolute;border-left: 1px solid gray;box-sizing: border-box;top: 0;bottom: 0;left: 50%;z-index: -1;}#sk-container-id-1 div.sk-parallel-item {display: flex;flex-direction: column;z-index: 1;position: relative;background-color: white;}#sk-container-id-1 div.sk-parallel-item:first-child::after {align-self: flex-end;width: 50%;}#sk-container-id-1 div.sk-parallel-item:last-child::after {align-self: flex-start;width: 50%;}#sk-container-id-1 div.sk-parallel-item:only-child::after {width: 0;}#sk-container-id-1 div.sk-dashed-wrapped {border: 1px dashed gray;margin: 0 0.4em 0.5em 0.4em;box-sizing: border-box;padding-bottom: 0.4em;background-color: white;}#sk-container-id-1 div.sk-label label {font-family: monospace;font-weight: bold;display: inline-block;line-height: 1.2em;}#sk-container-id-1 div.sk-label-container {text-align: center;}#sk-container-id-1 div.sk-container {/* jupyter's `normalize.less` sets `[hidden] { display: none; }` but bootstrap.min.css set `[hidden] { display: none !important; }` so we also need the `!important` here to be able to override the default hidden behavior on the sphinx rendered scikit-learn.org. See: https://github.com/scikit-learn/scikit-learn/issues/21755 */display: inline-block !important;position: relative;}#sk-container-id-1 div.sk-text-repr-fallback {display: none;}</style><div id=\"sk-container-id-1\" class=\"sk-top-container\"><div class=\"sk-text-repr-fallback\"><pre>LogisticRegression(max_iter=1000)</pre><b>In a Jupyter environment, please rerun this cell to show the HTML representation or trust the notebook. <br />On GitHub, the HTML representation is unable to render, please try loading this page with nbviewer.org.</b></div><div class=\"sk-container\" hidden><div class=\"sk-item\"><div class=\"sk-estimator sk-toggleable\"><input class=\"sk-toggleable__control sk-hidden--visually\" id=\"sk-estimator-id-1\" type=\"checkbox\" checked><label for=\"sk-estimator-id-1\" class=\"sk-toggleable__label sk-toggleable__label-arrow\">LogisticRegression</label><div class=\"sk-toggleable__content\"><pre>LogisticRegression(max_iter=1000)</pre></div></div></div></div></div>"
            ]
          },
          "metadata": {},
          "execution_count": 8
        }
      ]
    },
    {
      "cell_type": "code",
      "source": [
        "# Making predictions\n",
        "predictions = model.predict(X_test)\n",
        "\n",
        "# Evaluating the model\n",
        "accuracy = accuracy_score(y_test, predictions)\n",
        "print(\"Accuracy:\", accuracy)"
      ],
      "metadata": {
        "colab": {
          "base_uri": "https://localhost:8080/"
        },
        "id": "RcCcW2ajyl2v",
        "outputId": "882d52f9-ee6a-44b5-ef8b-8a6a259c91f7"
      },
      "execution_count": null,
      "outputs": [
        {
          "output_type": "stream",
          "name": "stdout",
          "text": [
            "Accuracy: 0.92025\n"
          ]
        }
      ]
    },
    {
      "cell_type": "code",
      "source": [
        "# Predicting priority for a new client\n",
        "# Suppose the new client has a 'corriente' account and their money increased over the three months\n",
        "new_client_account = 1 # 1 for corriente, 0 for ahorro\n",
        "new_client_money_increase = 1  # 1 if money increased, 0 otherwise\n",
        "predicted_priority = model.predict([[new_client_account, new_client_money_increase]])\n",
        "print(\"Predicted priority for the new client:\", predicted_priority)"
      ],
      "metadata": {
        "colab": {
          "base_uri": "https://localhost:8080/"
        },
        "id": "v6j5PML6ynQV",
        "outputId": "6cdb286b-e9c6-4fbc-a09a-317c55000147"
      },
      "execution_count": null,
      "outputs": [
        {
          "output_type": "stream",
          "name": "stdout",
          "text": [
            "Predicted priority for the new client: ['high']\n"
          ]
        },
        {
          "output_type": "stream",
          "name": "stderr",
          "text": [
            "/usr/local/lib/python3.10/dist-packages/sklearn/base.py:439: UserWarning: X does not have valid feature names, but LogisticRegression was fitted with feature names\n",
            "  warnings.warn(\n"
          ]
        }
      ]
    },
    {
      "cell_type": "markdown",
      "source": [
        "# **This code will generate a dataset with the updated priorities according to your specifications and then train a logistic regression model to classify priorities into 'high', 'medium', and 'low' based on account type and the trend of money increase. Finally, it predicts the priority for a new client.**"
      ],
      "metadata": {
        "id": "4wTY5MSn8Ohe"
      }
    }
  ]
}